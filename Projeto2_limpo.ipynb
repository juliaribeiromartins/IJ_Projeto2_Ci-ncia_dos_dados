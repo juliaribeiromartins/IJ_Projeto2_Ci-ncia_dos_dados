{
 "cells": [
  {
   "cell_type": "markdown",
   "metadata": {},
   "source": [
    "# Projeto 2 - Ciência dos Dados"
   ]
  },
  {
   "cell_type": "markdown",
   "metadata": {},
   "source": [
    "##### Integrantes\n",
    "    Júlia Ribeiro Martins\n",
    "    Igor Figueiredo"
   ]
  },
  {
   "cell_type": "markdown",
   "metadata": {},
   "source": [
    "___\n",
    "# Classificador automático de sentimento\n"
   ]
  },
  {
   "cell_type": "markdown",
   "metadata": {},
   "source": [
    "### Introdução"
   ]
  },
  {
   "cell_type": "code",
   "execution_count": null,
   "metadata": {},
   "outputs": [],
   "source": []
  },
  {
   "cell_type": "markdown",
   "metadata": {},
   "source": [
    "## Preparando o ambiente no jupyter:"
   ]
  },
  {
   "cell_type": "code",
   "execution_count": 209,
   "metadata": {},
   "outputs": [],
   "source": [
    "%%capture\n",
    "\n",
    "#Instalando o tweepy, arquivo que permite contato entre a plataforma Twitter e Python\n",
    "!pip install tweepy"
   ]
  },
  {
   "cell_type": "code",
   "execution_count": 210,
   "metadata": {
    "jupyter": {
     "outputs_hidden": true
    }
   },
   "outputs": [],
   "source": [
    "#importando as bibliotecas\n",
    "\n",
    "import tweepy\n",
    "import math\n",
    "import os.path\n",
    "import pandas as pd\n",
    "import json\n",
    "from random import shuffle\n",
    "import re \n",
    "%matplotlib inline\n",
    "import numpy as np\n",
    "import math as math\n",
    "from scipy import stats\n",
    "import matplotlib.pyplot as plt\n",
    "import os\n",
    "import seaborn as sns"
   ]
  },
  {
   "cell_type": "markdown",
   "metadata": {},
   "source": [
    "___\n",
    "## Autenticando no  Twitter\n",
    "\n",
    "* Conta: *** @IJ_Projeto_2***"
   ]
  },
  {
   "cell_type": "code",
   "execution_count": 211,
   "metadata": {
    "jupyter": {
     "outputs_hidden": true
    }
   },
   "outputs": [],
   "source": [
    "#identificador da conta no twitter: @IJ_Projeto_2\n",
    "\n",
    "#Dados de autenticação do twitter:\n",
    "#leitura do arquivo no formato JSON.\n",
    "with open('auth.pass') as fp:    \n",
    "    data = json.load(fp)\n",
    "\n",
    "#Configurando a biblioteca.\n",
    "auth = tweepy.OAuthHandler(data['consumer_key'], data['consumer_secret'])\n",
    "auth.set_access_token(data['access_token'], data['access_token_secret'])"
   ]
  },
  {
   "cell_type": "code",
   "execution_count": 212,
   "metadata": {},
   "outputs": [
    {
     "name": "stdout",
     "output_type": "stream",
     "text": [
      "Esperamos trabalhar no diretório\n",
      "/Users/Figueiredo/Documents/Insper/2º semestre/Ciência dos dados/Projetos/Projeto 2\n"
     ]
    }
   ],
   "source": [
    "# Definindo o diretório a ser trabalhado.\n",
    "os.chdir(\"/Users/Figueiredo/Documents/Insper/2º semestre/Ciência dos dados/Projetos/Projeto 2\")\n",
    "print('Esperamos trabalhar no diretório')\n",
    "print(os.getcwd())"
   ]
  },
  {
   "cell_type": "markdown",
   "metadata": {},
   "source": [
    "___\n",
    "## Etapas do projeto:"
   ]
  },
  {
   "cell_type": "markdown",
   "metadata": {},
   "source": [
    "### Escolha de um produto e coleta das mensagens"
   ]
  },
  {
   "cell_type": "markdown",
   "metadata": {},
   "source": [
    "De forma a analisar se as pessoas gostaram da série '13 Reasons Why', selecionaremos tal produto para avaliar se os comentários postados no twitter revela a opinião do público, podendo este ser contra ou a favor à serie; ou até mesmo irrelevante para a classificação definida."
   ]
  },
  {
   "cell_type": "code",
   "execution_count": 213,
   "metadata": {
    "jupyter": {
     "outputs_hidden": true
    }
   },
   "outputs": [],
   "source": [
    "#Produto escolhido:\n",
    "produto = '13 reasons why'\n",
    "\n",
    "#Quantidade mínima de mensagens capturadas:\n",
    "n = 950\n",
    "#Quantidade mínima de mensagens para a base de treinamento:\n",
    "t = 300\n",
    "\n",
    "#Filtro de língua, escolha uma na tabela ISO 639-1.\n",
    "lang = 'pt'"
   ]
  },
  {
   "cell_type": "markdown",
   "metadata": {},
   "source": [
    "Capturando os dados do twitter:"
   ]
  },
  {
   "cell_type": "code",
   "execution_count": 214,
   "metadata": {
    "jupyter": {
     "outputs_hidden": true
    }
   },
   "outputs": [],
   "source": [
    "#Cria um objeto para a captura\n",
    "api = tweepy.API(auth)\n",
    "\n",
    "#Inicia a captura, para mais detalhes: ver a documentação do tweepy\n",
    "i = 1\n",
    "msgs = []\n",
    "for msg in tweepy.Cursor(api.search, q=produto, lang=lang, tweet_mode=\"extended\").items():\n",
    "    msgs.append(msg.full_text.lower())\n",
    "    i += 1\n",
    "    if i > n:\n",
    "        break\n",
    "\n",
    "#Embaralhando as mensagens para reduzir um possível viés\n",
    "shuffle(msgs)"
   ]
  },
  {
   "cell_type": "markdown",
   "metadata": {},
   "source": [
    "Salvando os dados em uma planilha Excel:"
   ]
  },
  {
   "cell_type": "code",
   "execution_count": 215,
   "metadata": {
    "jupyter": {
     "outputs_hidden": true
    }
   },
   "outputs": [],
   "source": [
    "#Verifica se o arquivo não existe para não substituir um conjunto pronto\n",
    "if not os.path.isfile('./{0}.xlsx'.format(produto)):\n",
    "    \n",
    "    #Abre o arquivo para escrita\n",
    "    writer = pd.ExcelWriter('{0}.xlsx'.format(produto))\n",
    "\n",
    "    #divide o conjunto de mensagens em duas planilhas\n",
    "    dft = pd.DataFrame({'Treinamento' : pd.Series(msgs[:t])})\n",
    "    dft.to_excel(excel_writer = writer, sheet_name = 'Treinamento', index = False)\n",
    "\n",
    "    dfc = pd.DataFrame({'Teste' : pd.Series(msgs[t:])})\n",
    "    dfc.to_excel(excel_writer = writer, sheet_name = 'Teste', index = False)\n",
    "\n",
    "    #fecha o arquivo\n",
    "    writer.save()"
   ]
  },
  {
   "cell_type": "markdown",
   "metadata": {},
   "source": [
    "___\n",
    "### Classificando as mensagens"
   ]
  },
  {
   "cell_type": "markdown",
   "metadata": {},
   "source": [
    "Uma vez que a tabela do excel foi gerada, é necessario realizar a avaliação manual de cada um dos tweets, classificando-os assim de 1 para aqueles referente as pessoas que gostaram da série, 2 para quem não gostou da série e 3 para os comentários irrelevantes de acordo com a classificação definida acima."
   ]
  },
  {
   "cell_type": "markdown",
   "metadata": {},
   "source": [
    "Retirando os retweets da tabela de Treinamento, inicialmente contendo 650 tweets"
   ]
  },
  {
   "cell_type": "code",
   "execution_count": 216,
   "metadata": {},
   "outputs": [],
   "source": [
    "tabela_treinamento_sujo        = pd.read_excel(\"13 reasons why_classificacao.xlsx\") \n",
    "tabela_treinamento_sujo_index  = tabela_treinamento_sujo.set_index('tr')        \n",
    "tabela_t_sujo_index            = tabela_treinamento_sujo_index[['Treinamento']][:]\n",
    "sem_rt_treino                  = tabela_t_sujo_index.loc[[1,2,3]]\n",
    "tabelarelevancia               = tabela_treinamento_sujo[['Treinamento','tr']][:]"
   ]
  },
  {
   "cell_type": "markdown",
   "metadata": {},
   "source": [
    "Retirando os retweets da tabela de Teste, inicialmente com 300 tweets"
   ]
  },
  {
   "cell_type": "code",
   "execution_count": 217,
   "metadata": {},
   "outputs": [],
   "source": [
    "t               = pd.read_excel(\"13 reasons why_classificacao_teste.xlsx\")\n",
    "te              = t.set_index('te')\n",
    "tes             = te[['Teste']][:]                  \n",
    "sem_rt_teste    = tes.loc[[1,2,3]]\n",
    "tabela_de_teste = sem_rt_teste.reset_index()"
   ]
  },
  {
   "cell_type": "markdown",
   "metadata": {},
   "source": [
    "Limpando os tweets da tabela para montar o classificador"
   ]
  },
  {
   "cell_type": "code",
   "execution_count": 218,
   "metadata": {},
   "outputs": [],
   "source": [
    "gostou      = sem_rt_treino.loc[[1]]\n",
    "naogostou   = sem_rt_treino.loc[[2]]\n",
    "irrelevante = sem_rt_treino.loc[[3]]"
   ]
  },
  {
   "cell_type": "code",
   "execution_count": 219,
   "metadata": {
    "scrolled": true
   },
   "outputs": [
    {
     "name": "stderr",
     "output_type": "stream",
     "text": [
      "/anaconda3/lib/python3.7/site-packages/ipykernel_launcher.py:12: SettingWithCopyWarning: \n",
      "A value is trying to be set on a copy of a slice from a DataFrame.\n",
      "Try using .loc[row_indexer,col_indexer] = value instead\n",
      "\n",
      "See the caveats in the documentation: http://pandas.pydata.org/pandas-docs/stable/indexing.html#indexing-view-versus-copy\n",
      "  if sys.path[0] == '':\n"
     ]
    }
   ],
   "source": [
    "# Criando função para limpar os carcteres especiais.\n",
    "novoindex=[]\n",
    "def cleanup(text):\n",
    "    punctuation = '[\\n•!\\-.,:?\");=+(█]' \n",
    "    pattern = re.compile(punctuation)\n",
    "    for frase in text:\n",
    "        novoindex.append(re.sub(pattern,'',frase))\n",
    "    return novoindex\n",
    "\n",
    "# Adcionando o resultado da função no nosso DataFrame.\n",
    "novo=cleanup(sem_rt_treino[\"Treinamento\"])\n",
    "sem_rt_treino['limpo']= novo\n",
    "# sem_rt_treino"
   ]
  },
  {
   "cell_type": "markdown",
   "metadata": {},
   "source": [
    "Separando o data frame de acordo com cada classificação selecionada acima: Gostou( 1 ), Não gostou( 2 ) e Irrelevante( 3 )"
   ]
  },
  {
   "cell_type": "code",
   "execution_count": 220,
   "metadata": {},
   "outputs": [],
   "source": [
    "gostou_limpo      = sem_rt_treino.loc[[1]]\n",
    "nao_gostou_limpo  = sem_rt_treino.loc[[2]]\n",
    "irrelevante_limpo = sem_rt_treino.loc[[3]]"
   ]
  },
  {
   "cell_type": "markdown",
   "metadata": {},
   "source": [
    "Tabela de frequências "
   ]
  },
  {
   "cell_type": "code",
   "execution_count": 221,
   "metadata": {
    "scrolled": true
   },
   "outputs": [],
   "source": [
    "#tabela de frequencia absoluta das pessoas que gostaram, nao gostaram + comentarios irrelevantes.\n",
    "frequencia_absoluta = pd.Series(np.sum(sem_rt_treino.limpo).split()).value_counts() \n",
    "\n",
    "# frequencia_absoluta"
   ]
  },
  {
   "cell_type": "markdown",
   "metadata": {},
   "source": [
    "Calculando a frenquência relativa para cada data frame: Gostou( 1 ), Não gostou( 2 ) e Irrelevante( 3 )"
   ]
  },
  {
   "cell_type": "code",
   "execution_count": 222,
   "metadata": {},
   "outputs": [],
   "source": [
    "i = pd.Series(np.sum(irrelevante_limpo.limpo).split()) #Separa as palavras em strings\n",
    "# i.value_counts().head()\n",
    "\n",
    "\n",
    "j = pd.Series(np.sum(nao_gostou_limpo.limpo).split()) #Separa as palavras em strings\n",
    "# j.value_counts().head()\n",
    "\n",
    "\n",
    "k = pd.Series(np.sum(gostou_limpo.limpo).split()) #Separa as palavras em strings\n",
    "# k.value_counts().head()"
   ]
  },
  {
   "cell_type": "code",
   "execution_count": 223,
   "metadata": {
    "scrolled": false
   },
   "outputs": [],
   "source": [
    "#Freqência relativa do número de palavras em Irrelevante\n",
    "relativo_irrelevante = i.value_counts(True)\n",
    "# relativo_irrelevante.head()"
   ]
  },
  {
   "cell_type": "code",
   "execution_count": 224,
   "metadata": {},
   "outputs": [],
   "source": [
    "#Freqência relativa do número de palavras em não gostou\n",
    "relativo_não_gostou = j.value_counts(True)\n",
    "# relativo_não_gostou.head()"
   ]
  },
  {
   "cell_type": "code",
   "execution_count": 225,
   "metadata": {},
   "outputs": [],
   "source": [
    "#Freqência relativa do número de palavras em gostou\n",
    "relativo_gostou = k.value_counts(True)\n",
    "# relativo_gostou.head()"
   ]
  },
  {
   "cell_type": "markdown",
   "metadata": {},
   "source": [
    "Definindo a porcentagem de uma frase ser \"Gostou\", \"Não gostou\" ou \"Irrelevante\""
   ]
  },
  {
   "cell_type": "code",
   "execution_count": 226,
   "metadata": {},
   "outputs": [],
   "source": [
    "#Redefinindo o index dos tweets treinamento\n",
    "treino_reindex = sem_rt_treino.reset_index()\n",
    "# treino_reindex.head()"
   ]
  },
  {
   "cell_type": "code",
   "execution_count": 227,
   "metadata": {},
   "outputs": [],
   "source": [
    "coluna_relevância = treino_reindex.tr #Cria uma coluna com as relevâncias.\n",
    "\n",
    "#Calculando a quantidade de frases de acordo com cada classificação feita manualmente.\n",
    "total_por_classificação = coluna_relevância.value_counts()\n",
    "# total_por_classificação"
   ]
  },
  {
   "cell_type": "code",
   "execution_count": 228,
   "metadata": {},
   "outputs": [
    {
     "name": "stdout",
     "output_type": "stream",
     "text": [
      "A probabilidade de ser gosto é       =  29 %\n",
      "A probabilidade de ser não gosto é   =  34 %\n",
      "A probabilidade de ser irrelevante é =  36 %\n"
     ]
    }
   ],
   "source": [
    "prob_gosto       = total_por_classificação[1]/len(coluna_relevância) #Calcula a provabilidade de uma palavra ser relevante entre todas as palavras do DataFrame\n",
    "# prob_relevante\n",
    "prob_nao_gosto   = total_por_classificação[2]/len(coluna_relevância) #Calcula a provabilidade de uma palavra ser irrelevante entre todas as palavras do DataFrame\n",
    "prob_irrelevante = total_por_classificação[3]/len(coluna_relevância) #Calcula a provabilidade de uma palavra ser irrelevante entre todas as palavras do DataFrame\n",
    "print('A probabilidade de ser gosto é       = ',int(prob_gosto * 100),'%')\n",
    "print('A probabilidade de ser não gosto é   = ',int(prob_nao_gosto * 100),'%')\n",
    "print('A probabilidade de ser irrelevante é = ', int(prob_irrelevante * 100),'%')"
   ]
  },
  {
   "cell_type": "markdown",
   "metadata": {},
   "source": [
    "___\n",
    "### Montando o Classificador Naive-Bayes\n",
    "\n",
    "Considerando apenas as mensagens da planilha Treinamento, ensine  seu classificador."
   ]
  },
  {
   "cell_type": "code",
   "execution_count": 233,
   "metadata": {
    "scrolled": true
   },
   "outputs": [],
   "source": [
    "gost = np.sum(gostou_limpo.limpo).split()\n",
    "all_gost = len(gost)\n",
    "\n",
    "n_gost = np.sum(nao_gostou_limpo.limpo).split()\n",
    "all_n_gost = len(n_gost)\n",
    "\n",
    "irrelev = np.sum(irrelevante_limpo.limpo).split()\n",
    "all_irrelev = len(irrelev)\n",
    "\n",
    "Tudo = all_gost + all_n_gost + all_irrelev\n",
    "\n",
    "def Naive(Tweet):\n",
    "    naive = Tweet.split(' ')\n",
    "    gosta = []\n",
    "    n_gosta = []\n",
    "    irrelevante = []\n",
    "    for i in range(len(naive)):\n",
    "        gosta.append(np.log((gost.count(naive[i]) + 1) / (all_gost + Tudo)))\n",
    "        n_gosta.append(np.log((n_gost.count(naive[i]) + 1) / (all_n_gost + Tudo)))\n",
    "        irrelevante.append(np.log((irrelev.count(naive[i]) + 1) / (all_irrelev + Tudo)))\n",
    "    P_gost = np.sum(gosta)\n",
    "    P_n_gost = np.sum(n_gosta)\n",
    "    P_irrelev = np.sum(irrelevante)\n",
    "    \n",
    "    #Aplicando o log para \n",
    "    p1 = np.log(prob_gosto) + P_gost\n",
    "    p2 = np.log(prob_nao_gosto) + P_n_gost\n",
    "    p3 = np.log(prob_irrelevante) + P_irrelev\n",
    "    \n",
    "    if p1 > p2 and p1 > p3:\n",
    "        return 1\n",
    "    elif p2 > p1 and p2 > p3:\n",
    "        return 2\n",
    "    elif p3 > p1 and p3 > p2:\n",
    "        return 3\n",
    "    "
   ]
  },
  {
   "cell_type": "code",
   "execution_count": 230,
   "metadata": {},
   "outputs": [
    {
     "data": {
      "text/html": [
       "<div>\n",
       "<style scoped>\n",
       "    .dataframe tbody tr th:only-of-type {\n",
       "        vertical-align: middle;\n",
       "    }\n",
       "\n",
       "    .dataframe tbody tr th {\n",
       "        vertical-align: top;\n",
       "    }\n",
       "\n",
       "    .dataframe thead th {\n",
       "        text-align: right;\n",
       "    }\n",
       "</style>\n",
       "<table border=\"1\" class=\"dataframe\">\n",
       "  <thead>\n",
       "    <tr style=\"text-align: right;\">\n",
       "      <th></th>\n",
       "      <th>te</th>\n",
       "      <th>Teste</th>\n",
       "      <th>Classificação-Naive</th>\n",
       "    </tr>\n",
       "  </thead>\n",
       "  <tbody>\n",
       "    <tr>\n",
       "      <th>0</th>\n",
       "      <td>1</td>\n",
       "      <td>minha amg tá nervosa pq eu amo o \\nbryce walke...</td>\n",
       "      <td>2</td>\n",
       "    </tr>\n",
       "    <tr>\n",
       "      <th>1</th>\n",
       "      <td>1</td>\n",
       "      <td>finamente terminei a 3° temp de 13 reasons why...</td>\n",
       "      <td>3</td>\n",
       "    </tr>\n",
       "    <tr>\n",
       "      <th>2</th>\n",
       "      <td>1</td>\n",
       "      <td>essa série é massa \"13 reasons why\"</td>\n",
       "      <td>2</td>\n",
       "    </tr>\n",
       "    <tr>\n",
       "      <th>3</th>\n",
       "      <td>1</td>\n",
       "      <td>13 reasons why,a série que todo mundo critica ...</td>\n",
       "      <td>3</td>\n",
       "    </tr>\n",
       "    <tr>\n",
       "      <th>4</th>\n",
       "      <td>1</td>\n",
       "      <td>atribuí nota 9 ao episódio 3x1 - yeah. i'm the...</td>\n",
       "      <td>1</td>\n",
       "    </tr>\n",
       "    <tr>\n",
       "      <th>5</th>\n",
       "      <td>1</td>\n",
       "      <td>• sobre séries •\\n\\n1. homeland\\n2. stranger t...</td>\n",
       "      <td>3</td>\n",
       "    </tr>\n",
       "    <tr>\n",
       "      <th>6</th>\n",
       "      <td>1</td>\n",
       "      <td>hmmm terminei 13 reasons why, até q gostei</td>\n",
       "      <td>1</td>\n",
       "    </tr>\n",
       "    <tr>\n",
       "      <th>7</th>\n",
       "      <td>1</td>\n",
       "      <td>@netflixbrasil eu vendo a 1 temp de 13 reasons...</td>\n",
       "      <td>3</td>\n",
       "    </tr>\n",
       "    <tr>\n",
       "      <th>8</th>\n",
       "      <td>1</td>\n",
       "      <td>manoooo assisti o trailer da 3 temporada de 13...</td>\n",
       "      <td>3</td>\n",
       "    </tr>\n",
       "    <tr>\n",
       "      <th>9</th>\n",
       "      <td>1</td>\n",
       "      <td>ao contrário de tds as críticas sobre a 3 temp...</td>\n",
       "      <td>3</td>\n",
       "    </tr>\n",
       "    <tr>\n",
       "      <th>10</th>\n",
       "      <td>1</td>\n",
       "      <td>me deu vontade de assistir 13 reasons why pela...</td>\n",
       "      <td>3</td>\n",
       "    </tr>\n",
       "    <tr>\n",
       "      <th>11</th>\n",
       "      <td>1</td>\n",
       "      <td>e na verdade,13 reasons why é simplesmente a s...</td>\n",
       "      <td>3</td>\n",
       "    </tr>\n",
       "    <tr>\n",
       "      <th>12</th>\n",
       "      <td>1</td>\n",
       "      <td>moço “13 reasons why” está muito bem estrutura...</td>\n",
       "      <td>2</td>\n",
       "    </tr>\n",
       "    <tr>\n",
       "      <th>13</th>\n",
       "      <td>1</td>\n",
       "      <td>essa temp de 13 reasons why ta perfeita\\no bry...</td>\n",
       "      <td>2</td>\n",
       "    </tr>\n",
       "    <tr>\n",
       "      <th>14</th>\n",
       "      <td>1</td>\n",
       "      <td>• sobre séries •\\n\\n1. h2o meninas sereias \\n2...</td>\n",
       "      <td>1</td>\n",
       "    </tr>\n",
       "    <tr>\n",
       "      <th>15</th>\n",
       "      <td>1</td>\n",
       "      <td>mermao, nunca pensei q eu fosse falar isso mas...</td>\n",
       "      <td>3</td>\n",
       "    </tr>\n",
       "    <tr>\n",
       "      <th>16</th>\n",
       "      <td>1</td>\n",
       "      <td>13 reasons why, ao mesmo tempo que pode ser be...</td>\n",
       "      <td>2</td>\n",
       "    </tr>\n",
       "    <tr>\n",
       "      <th>17</th>\n",
       "      <td>1</td>\n",
       "      <td>to vendo 13 reasons why pela segunda vez, putz...</td>\n",
       "      <td>2</td>\n",
       "    </tr>\n",
       "    <tr>\n",
       "      <th>18</th>\n",
       "      <td>1</td>\n",
       "      <td>que merda que está acontecendo , eu chorei ass...</td>\n",
       "      <td>2</td>\n",
       "    </tr>\n",
       "    <tr>\n",
       "      <th>19</th>\n",
       "      <td>1</td>\n",
       "      <td>chorei igual criança com esse ep de 13 reasons...</td>\n",
       "      <td>1</td>\n",
       "    </tr>\n",
       "    <tr>\n",
       "      <th>20</th>\n",
       "      <td>1</td>\n",
       "      <td>ta bom talvez eu goste de 13 reasons why</td>\n",
       "      <td>2</td>\n",
       "    </tr>\n",
       "    <tr>\n",
       "      <th>21</th>\n",
       "      <td>1</td>\n",
       "      <td>atribuí nota 8 ao episódio 3x4 - angry, young ...</td>\n",
       "      <td>1</td>\n",
       "    </tr>\n",
       "    <tr>\n",
       "      <th>22</th>\n",
       "      <td>1</td>\n",
       "      <td>terminei 13 reasons why, foi ele gente mds, a ...</td>\n",
       "      <td>2</td>\n",
       "    </tr>\n",
       "    <tr>\n",
       "      <th>23</th>\n",
       "      <td>1</td>\n",
       "      <td>finalizando a terceira temporada ❤️ — assistin...</td>\n",
       "      <td>3</td>\n",
       "    </tr>\n",
       "    <tr>\n",
       "      <th>24</th>\n",
       "      <td>1</td>\n",
       "      <td>• sobre séries •\\n\\n1. glee\\n2. brooklyn 99\\n3...</td>\n",
       "      <td>1</td>\n",
       "    </tr>\n",
       "    <tr>\n",
       "      <th>25</th>\n",
       "      <td>1</td>\n",
       "      <td>atribuí nota 6.5 ao episódio 3x4 - angry, youn...</td>\n",
       "      <td>1</td>\n",
       "    </tr>\n",
       "    <tr>\n",
       "      <th>26</th>\n",
       "      <td>1</td>\n",
       "      <td>acabada dps de terminar a última tempo de 13 r...</td>\n",
       "      <td>3</td>\n",
       "    </tr>\n",
       "    <tr>\n",
       "      <th>27</th>\n",
       "      <td>1</td>\n",
       "      <td>sofrir por 13 reasons why (s03e03)\\nepisódio: ...</td>\n",
       "      <td>2</td>\n",
       "    </tr>\n",
       "    <tr>\n",
       "      <th>28</th>\n",
       "      <td>1</td>\n",
       "      <td>tô no último ep de 13 reasons why aí q bad</td>\n",
       "      <td>1</td>\n",
       "    </tr>\n",
       "    <tr>\n",
       "      <th>29</th>\n",
       "      <td>1</td>\n",
       "      <td>vcs amigariam comigo?\\n\\nidade: 15 anos \\nséri...</td>\n",
       "      <td>1</td>\n",
       "    </tr>\n",
       "    <tr>\n",
       "      <th>...</th>\n",
       "      <td>...</td>\n",
       "      <td>...</td>\n",
       "      <td>...</td>\n",
       "    </tr>\n",
       "    <tr>\n",
       "      <th>418</th>\n",
       "      <td>3</td>\n",
       "      <td>muito engraçado ver o lucifer de supernatural ...</td>\n",
       "      <td>3</td>\n",
       "    </tr>\n",
       "    <tr>\n",
       "      <th>419</th>\n",
       "      <td>3</td>\n",
       "      <td>não consigo acabar 13 reasons why pqp</td>\n",
       "      <td>2</td>\n",
       "    </tr>\n",
       "    <tr>\n",
       "      <th>420</th>\n",
       "      <td>3</td>\n",
       "      <td>temporada 3 de \"13 reasons why\" aqui vou eu</td>\n",
       "      <td>3</td>\n",
       "    </tr>\n",
       "    <tr>\n",
       "      <th>421</th>\n",
       "      <td>3</td>\n",
       "      <td>o tanto que eu to chorando com o final de 13 r...</td>\n",
       "      <td>3</td>\n",
       "    </tr>\n",
       "    <tr>\n",
       "      <th>422</th>\n",
       "      <td>3</td>\n",
       "      <td>13 reasons why pq vc tá chorando? https://t.co...</td>\n",
       "      <td>1</td>\n",
       "    </tr>\n",
       "    <tr>\n",
       "      <th>423</th>\n",
       "      <td>3</td>\n",
       "      <td>\"quando a casa pega fogo, você conversa sobre ...</td>\n",
       "      <td>3</td>\n",
       "    </tr>\n",
       "    <tr>\n",
       "      <th>424</th>\n",
       "      <td>3</td>\n",
       "      <td>esse fds semana vou pegar pra terminar a 3 tem...</td>\n",
       "      <td>3</td>\n",
       "    </tr>\n",
       "    <tr>\n",
       "      <th>425</th>\n",
       "      <td>3</td>\n",
       "      <td>sinceramente 13 reasons why eu não sei quem ma...</td>\n",
       "      <td>3</td>\n",
       "    </tr>\n",
       "    <tr>\n",
       "      <th>426</th>\n",
       "      <td>3</td>\n",
       "      <td>acabei de assistir o episódio s03e13 de 13 rea...</td>\n",
       "      <td>3</td>\n",
       "    </tr>\n",
       "    <tr>\n",
       "      <th>427</th>\n",
       "      <td>3</td>\n",
       "      <td>• sobre séries •\\n\\n1. acho que lost\\n2. mad m...</td>\n",
       "      <td>1</td>\n",
       "    </tr>\n",
       "    <tr>\n",
       "      <th>428</th>\n",
       "      <td>3</td>\n",
       "      <td>@bchartsnet já esmurrou 13 reasons why e elite...</td>\n",
       "      <td>3</td>\n",
       "    </tr>\n",
       "    <tr>\n",
       "      <th>429</th>\n",
       "      <td>3</td>\n",
       "      <td>tenho q assistir a 3 temporada de 13 reasons why</td>\n",
       "      <td>3</td>\n",
       "    </tr>\n",
       "    <tr>\n",
       "      <th>430</th>\n",
       "      <td>3</td>\n",
       "      <td>13 reasons why ta me fazendo ter ódio e dó do ...</td>\n",
       "      <td>2</td>\n",
       "    </tr>\n",
       "    <tr>\n",
       "      <th>431</th>\n",
       "      <td>3</td>\n",
       "      <td>sobrevivi a mais um surto de 13 reasons why s0...</td>\n",
       "      <td>2</td>\n",
       "    </tr>\n",
       "    <tr>\n",
       "      <th>432</th>\n",
       "      <td>3</td>\n",
       "      <td>acabei de ver uma cena em 13 reasons why e fiq...</td>\n",
       "      <td>3</td>\n",
       "    </tr>\n",
       "    <tr>\n",
       "      <th>433</th>\n",
       "      <td>3</td>\n",
       "      <td>to assistindo 13 reasons why, mas to perdidinh...</td>\n",
       "      <td>3</td>\n",
       "    </tr>\n",
       "    <tr>\n",
       "      <th>434</th>\n",
       "      <td>3</td>\n",
       "      <td>eu chorei muito vendo esses últimos ep de 13 r...</td>\n",
       "      <td>2</td>\n",
       "    </tr>\n",
       "    <tr>\n",
       "      <th>435</th>\n",
       "      <td>3</td>\n",
       "      <td>*aula de tcc\\nprofessora: vc vai falar sobre u...</td>\n",
       "      <td>2</td>\n",
       "    </tr>\n",
       "    <tr>\n",
       "      <th>436</th>\n",
       "      <td>3</td>\n",
       "      <td>só amanhã, hoje vou terminar logo a terceira t...</td>\n",
       "      <td>3</td>\n",
       "    </tr>\n",
       "    <tr>\n",
       "      <th>437</th>\n",
       "      <td>3</td>\n",
       "      <td>finalmente terminei a primeira temporada de 13...</td>\n",
       "      <td>2</td>\n",
       "    </tr>\n",
       "    <tr>\n",
       "      <th>438</th>\n",
       "      <td>3</td>\n",
       "      <td>• sobre séries •\\n\\n1. tvd\\n2. sense8\\n3. la c...</td>\n",
       "      <td>1</td>\n",
       "    </tr>\n",
       "    <tr>\n",
       "      <th>439</th>\n",
       "      <td>3</td>\n",
       "      <td>vou começar a assistir 13 reasons why dnv, já ...</td>\n",
       "      <td>3</td>\n",
       "    </tr>\n",
       "    <tr>\n",
       "      <th>440</th>\n",
       "      <td>3</td>\n",
       "      <td>acabei a 3a temporada de 13 reasons why, final...</td>\n",
       "      <td>3</td>\n",
       "    </tr>\n",
       "    <tr>\n",
       "      <th>441</th>\n",
       "      <td>3</td>\n",
       "      <td>falta 3 ep p eu terminar 13 reasons why, eu vo...</td>\n",
       "      <td>3</td>\n",
       "    </tr>\n",
       "    <tr>\n",
       "      <th>442</th>\n",
       "      <td>3</td>\n",
       "      <td>assisti alguns episódios da primeira temporada...</td>\n",
       "      <td>2</td>\n",
       "    </tr>\n",
       "    <tr>\n",
       "      <th>443</th>\n",
       "      <td>3</td>\n",
       "      <td>minha cabeça já tá toda confusa com essa série...</td>\n",
       "      <td>1</td>\n",
       "    </tr>\n",
       "    <tr>\n",
       "      <th>444</th>\n",
       "      <td>3</td>\n",
       "      <td>aí vou assistir à 3º temporada de 13 reasons why</td>\n",
       "      <td>3</td>\n",
       "    </tr>\n",
       "    <tr>\n",
       "      <th>445</th>\n",
       "      <td>3</td>\n",
       "      <td>eu sempre choro assistindo o sexto episódio da...</td>\n",
       "      <td>3</td>\n",
       "    </tr>\n",
       "    <tr>\n",
       "      <th>446</th>\n",
       "      <td>3</td>\n",
       "      <td>o tanto que eu chorei com o último episódio de...</td>\n",
       "      <td>1</td>\n",
       "    </tr>\n",
       "    <tr>\n",
       "      <th>447</th>\n",
       "      <td>3</td>\n",
       "      <td>mano a série 13 reasons why é uma merda em alg...</td>\n",
       "      <td>3</td>\n",
       "    </tr>\n",
       "  </tbody>\n",
       "</table>\n",
       "<p>448 rows × 3 columns</p>\n",
       "</div>"
      ],
      "text/plain": [
       "     te                                              Teste  \\\n",
       "0     1  minha amg tá nervosa pq eu amo o \\nbryce walke...   \n",
       "1     1  finamente terminei a 3° temp de 13 reasons why...   \n",
       "2     1                essa série é massa \"13 reasons why\"   \n",
       "3     1  13 reasons why,a série que todo mundo critica ...   \n",
       "4     1  atribuí nota 9 ao episódio 3x1 - yeah. i'm the...   \n",
       "5     1  • sobre séries •\\n\\n1. homeland\\n2. stranger t...   \n",
       "6     1         hmmm terminei 13 reasons why, até q gostei   \n",
       "7     1  @netflixbrasil eu vendo a 1 temp de 13 reasons...   \n",
       "8     1  manoooo assisti o trailer da 3 temporada de 13...   \n",
       "9     1  ao contrário de tds as críticas sobre a 3 temp...   \n",
       "10    1  me deu vontade de assistir 13 reasons why pela...   \n",
       "11    1  e na verdade,13 reasons why é simplesmente a s...   \n",
       "12    1  moço “13 reasons why” está muito bem estrutura...   \n",
       "13    1  essa temp de 13 reasons why ta perfeita\\no bry...   \n",
       "14    1  • sobre séries •\\n\\n1. h2o meninas sereias \\n2...   \n",
       "15    1  mermao, nunca pensei q eu fosse falar isso mas...   \n",
       "16    1  13 reasons why, ao mesmo tempo que pode ser be...   \n",
       "17    1  to vendo 13 reasons why pela segunda vez, putz...   \n",
       "18    1  que merda que está acontecendo , eu chorei ass...   \n",
       "19    1  chorei igual criança com esse ep de 13 reasons...   \n",
       "20    1           ta bom talvez eu goste de 13 reasons why   \n",
       "21    1  atribuí nota 8 ao episódio 3x4 - angry, young ...   \n",
       "22    1  terminei 13 reasons why, foi ele gente mds, a ...   \n",
       "23    1  finalizando a terceira temporada ❤️ — assistin...   \n",
       "24    1  • sobre séries •\\n\\n1. glee\\n2. brooklyn 99\\n3...   \n",
       "25    1  atribuí nota 6.5 ao episódio 3x4 - angry, youn...   \n",
       "26    1  acabada dps de terminar a última tempo de 13 r...   \n",
       "27    1  sofrir por 13 reasons why (s03e03)\\nepisódio: ...   \n",
       "28    1         tô no último ep de 13 reasons why aí q bad   \n",
       "29    1  vcs amigariam comigo?\\n\\nidade: 15 anos \\nséri...   \n",
       "..   ..                                                ...   \n",
       "418   3  muito engraçado ver o lucifer de supernatural ...   \n",
       "419   3              não consigo acabar 13 reasons why pqp   \n",
       "420   3        temporada 3 de \"13 reasons why\" aqui vou eu   \n",
       "421   3  o tanto que eu to chorando com o final de 13 r...   \n",
       "422   3  13 reasons why pq vc tá chorando? https://t.co...   \n",
       "423   3  \"quando a casa pega fogo, você conversa sobre ...   \n",
       "424   3  esse fds semana vou pegar pra terminar a 3 tem...   \n",
       "425   3  sinceramente 13 reasons why eu não sei quem ma...   \n",
       "426   3  acabei de assistir o episódio s03e13 de 13 rea...   \n",
       "427   3  • sobre séries •\\n\\n1. acho que lost\\n2. mad m...   \n",
       "428   3  @bchartsnet já esmurrou 13 reasons why e elite...   \n",
       "429   3   tenho q assistir a 3 temporada de 13 reasons why   \n",
       "430   3  13 reasons why ta me fazendo ter ódio e dó do ...   \n",
       "431   3  sobrevivi a mais um surto de 13 reasons why s0...   \n",
       "432   3  acabei de ver uma cena em 13 reasons why e fiq...   \n",
       "433   3  to assistindo 13 reasons why, mas to perdidinh...   \n",
       "434   3  eu chorei muito vendo esses últimos ep de 13 r...   \n",
       "435   3  *aula de tcc\\nprofessora: vc vai falar sobre u...   \n",
       "436   3  só amanhã, hoje vou terminar logo a terceira t...   \n",
       "437   3  finalmente terminei a primeira temporada de 13...   \n",
       "438   3  • sobre séries •\\n\\n1. tvd\\n2. sense8\\n3. la c...   \n",
       "439   3  vou começar a assistir 13 reasons why dnv, já ...   \n",
       "440   3  acabei a 3a temporada de 13 reasons why, final...   \n",
       "441   3  falta 3 ep p eu terminar 13 reasons why, eu vo...   \n",
       "442   3  assisti alguns episódios da primeira temporada...   \n",
       "443   3  minha cabeça já tá toda confusa com essa série...   \n",
       "444   3   aí vou assistir à 3º temporada de 13 reasons why   \n",
       "445   3  eu sempre choro assistindo o sexto episódio da...   \n",
       "446   3  o tanto que eu chorei com o último episódio de...   \n",
       "447   3  mano a série 13 reasons why é uma merda em alg...   \n",
       "\n",
       "     Classificação-Naive  \n",
       "0                      2  \n",
       "1                      3  \n",
       "2                      2  \n",
       "3                      3  \n",
       "4                      1  \n",
       "5                      3  \n",
       "6                      1  \n",
       "7                      3  \n",
       "8                      3  \n",
       "9                      3  \n",
       "10                     3  \n",
       "11                     3  \n",
       "12                     2  \n",
       "13                     2  \n",
       "14                     1  \n",
       "15                     3  \n",
       "16                     2  \n",
       "17                     2  \n",
       "18                     2  \n",
       "19                     1  \n",
       "20                     2  \n",
       "21                     1  \n",
       "22                     2  \n",
       "23                     3  \n",
       "24                     1  \n",
       "25                     1  \n",
       "26                     3  \n",
       "27                     2  \n",
       "28                     1  \n",
       "29                     1  \n",
       "..                   ...  \n",
       "418                    3  \n",
       "419                    2  \n",
       "420                    3  \n",
       "421                    3  \n",
       "422                    1  \n",
       "423                    3  \n",
       "424                    3  \n",
       "425                    3  \n",
       "426                    3  \n",
       "427                    1  \n",
       "428                    3  \n",
       "429                    3  \n",
       "430                    2  \n",
       "431                    2  \n",
       "432                    3  \n",
       "433                    3  \n",
       "434                    2  \n",
       "435                    2  \n",
       "436                    3  \n",
       "437                    2  \n",
       "438                    1  \n",
       "439                    3  \n",
       "440                    3  \n",
       "441                    3  \n",
       "442                    2  \n",
       "443                    1  \n",
       "444                    3  \n",
       "445                    3  \n",
       "446                    1  \n",
       "447                    3  \n",
       "\n",
       "[448 rows x 3 columns]"
      ]
     },
     "execution_count": 230,
     "metadata": {},
     "output_type": "execute_result"
    }
   ],
   "source": [
    "lista_teste = []\n",
    "\n",
    "\n",
    "for e in tabela_de_teste.Teste:\n",
    "    lista_teste.append(Naive(e))\n",
    "    \n",
    "tabela_de_teste[\"Classificação-Naive\"] = lista_teste\n",
    "tabela_de_teste\n",
    "\n",
    "# tabela_de_teste[tabela_de_teste['Classificação-Naive']==1]"
   ]
  },
  {
   "cell_type": "markdown",
   "metadata": {},
   "source": [
    "___\n",
    "### Verificando a performance\n",
    "\n",
    "Agora você deve testar o seu classificador com a base de Testes."
   ]
  },
  {
   "cell_type": "code",
   "execution_count": null,
   "metadata": {},
   "outputs": [],
   "source": []
  },
  {
   "cell_type": "code",
   "execution_count": null,
   "metadata": {},
   "outputs": [],
   "source": []
  },
  {
   "cell_type": "code",
   "execution_count": null,
   "metadata": {},
   "outputs": [],
   "source": []
  },
  {
   "cell_type": "markdown",
   "metadata": {},
   "source": [
    "___\n",
    "### Concluindo"
   ]
  },
  {
   "cell_type": "code",
   "execution_count": null,
   "metadata": {},
   "outputs": [],
   "source": [
    "Fazer grafico de pizza para concluir\n",
    "# adim = dados.EDUCACAO[dados.DEFAULT == 'Adimplente'].value_counts()\n",
    "# adim.plot(kind='pie', autopct=\"%.2f\",legend=False)\n",
    "# plt.title('ADIMPLENTES')"
   ]
  },
  {
   "cell_type": "code",
   "execution_count": null,
   "metadata": {},
   "outputs": [],
   "source": []
  },
  {
   "cell_type": "markdown",
   "metadata": {},
   "source": [
    "## Aperfeiçoamento:\n",
    "\n",
    "Os trabalhos vão evoluir em conceito dependendo da quantidade de itens avançados:\n",
    "\n",
    "* Limpar: \\n, :, \", ', (, ), etc SEM remover emojis\n",
    "* Corrigir separação de espaços entre palavras e emojis ou emojis e emojis\n",
    "* Propor outras limpezas e transformações que não afetem a qualidade da informação ou classificação\n",
    "* Criar categorias intermediárias de relevância baseadas na probabilidade: ex.: muito relevante, relevante, neutro, irrelevante, muito irrelevante (3 categorias: C, mais categorias conta para B)\n",
    "* Explicar por que não posso usar o próprio classificador para gerar mais amostras de treinamento\n",
    "* Propor diferentes cenários para Naïve Bayes fora do contexto do projeto\n",
    "* Sugerir e explicar melhorias reais com indicações concretas de como implementar (indicar como fazer e indicar material de pesquisa)\n",
    "* Montar um dashboard que periodicamente realiza análise de sentimento e visualiza estes dados"
   ]
  },
  {
   "cell_type": "markdown",
   "metadata": {},
   "source": [
    "# Referências"
   ]
  },
  {
   "cell_type": "markdown",
   "metadata": {},
   "source": [
    "[Naive Bayes and Text Classification](https://arxiv.org/pdf/1410.5329.pdf)  **Mais completo**\n",
    "\n",
    "[A practical explanation of a Naive Bayes Classifier](https://monkeylearn.com/blog/practical-explanation-naive-bayes-classifier/) **Mais simples**"
   ]
  },
  {
   "cell_type": "code",
   "execution_count": null,
   "metadata": {},
   "outputs": [],
   "source": []
  }
 ],
 "metadata": {
  "kernelspec": {
   "display_name": "Python 3",
   "language": "python",
   "name": "python3"
  },
  "language_info": {
   "codemirror_mode": {
    "name": "ipython",
    "version": 3
   },
   "file_extension": ".py",
   "mimetype": "text/x-python",
   "name": "python",
   "nbconvert_exporter": "python",
   "pygments_lexer": "ipython3",
   "version": "3.7.1"
  }
 },
 "nbformat": 4,
 "nbformat_minor": 4
}
